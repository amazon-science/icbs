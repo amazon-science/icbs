{
 "cells": [
  {
   "cell_type": "markdown",
   "id": "7a10eff2-2c21-4f37-bf5e-9f4e78f8ff5f",
   "metadata": {},
   "source": [
    "Copyright Amazon.com, Inc. or its affiliates. All Rights Reserved. <br>\n",
    "SPDX-License-Identifier: CC-BY-NC-4.0"
   ]
  },
  {
   "cell_type": "markdown",
   "id": "4f1496be-bc4d-4068-86e4-e670a5dc532a",
   "metadata": {},
   "source": [
    "# Simple Example (LLM)\n",
    "\n",
    "This example shows how to prune an LLM, using a pretrained model and dataset from Hugging Face. By nature LLMs are large, so it is not possible to prune them quickly for the purposes of a demo, nor without access to a GPU (or multiple). For this reason, this example shows how to prune a tiny LLM with arbitrary weights. To prune a \"real\" LLM, you'll need run this code on an instance with an appropriate number of GPUs and memory, for a number of hours or days. The settings that should be changed to get the settings we used in the paper for Mistral-7B are indicated after the # sign, where a change is needed. \n",
    "\n",
    "Some aspects of this example are specific to LLMs, such as the loading of the model, preparation of the data, and the evaluation of the model. If your model is not an LLM, `simple_example.ipynb` may be a better starting point. "
   ]
  },
  {
   "cell_type": "markdown",
   "id": "4d1d5ea7-2f72-401f-8ce3-5b9ef1765193",
   "metadata": {},
   "source": [
    "## Language model evaluation harness"
   ]
  },
  {
   "cell_type": "markdown",
   "id": "5c0e5623-6653-412b-827d-40bdb9afc028",
   "metadata": {},
   "source": [
    "To run this example, please make sure to install the LM Evaluation Harness first:\n",
    "```\n",
    "git clone https://github.com/EleutherAI/lm-evaluation-harness\n",
    "cd lm-evaluation-harness\n",
    "pip install -e .\n",
    "```"
   ]
  },
  {
   "cell_type": "markdown",
   "id": "74120102-36a0-4dad-8b94-77ebe3ebf0e3",
   "metadata": {},
   "source": [
    "### Imports "
   ]
  },
  {
   "cell_type": "code",
   "execution_count": 1,
   "id": "770016af-f57b-440a-a0f0-7b730691c43a",
   "metadata": {},
   "outputs": [],
   "source": [
    "import multiprocessing\n",
    "\n",
    "import os\n",
    "import pickle\n",
    "import time\n",
    "from collections import defaultdict\n",
    "from pathlib import Path\n",
    "\n",
    "import matplotlib.pyplot as plt\n",
    "import numpy as np\n",
    "import torch\n",
    "import torch.nn as nn\n",
    "from torch.utils.data import DataLoader\n",
    "\n",
    "from icbs.evaluation import evaluate_model, evaluate_model_tasks\n",
    "from icbs.loops import prune_loop\n",
    "from icbs.pruner import Pruner\n",
    "from icbs.solvers import ConstrainedSASolver\n",
    "from icbs.util import calc_density, get_log_w_names_step, get_named_weights\n",
    "from icbs.util_llm import is_llm, load_llm, prep_loader_batch, prepare_llm\n",
    "from util import load_dataset, set_num_threads, set_seed"
   ]
  },
  {
   "cell_type": "markdown",
   "id": "13fbebd5-c6a6-41eb-aa43-6a91911ed82e",
   "metadata": {},
   "source": [
    "### Settings\n",
    "\n",
    "Some settings are chosen specifically so that this notebook can be run in a short time.  In such cases, the settings used for the LLMs in the paper are included after the # symbol."
   ]
  },
  {
   "cell_type": "code",
   "execution_count": 2,
   "id": "669c3d04-b1af-46ee-b21b-80d56f82fc71",
   "metadata": {},
   "outputs": [],
   "source": [
    "# Model and dataset\n",
    "model_name = \"stas/tiny-random-llama-2\"  # \"mistralai/Mistral-7B-v0.1\"\n",
    "dataset_name = \"stas/c4-en-10k\"  # \"allenai/c4\"\n",
    "dataset_args = {}  # {\"streaming\": True, \"name\": \"en\"}\n",
    "device = \"cuda\" if torch.cuda.is_available() else \"cpu\"\n",
    "\n",
    "# Pruner parameters\n",
    "seed = 43\n",
    "density = 0.3\n",
    "pruner_num_epochs = 5  # 10\n",
    "num_steps_per_epoch = 1  # 300\n",
    "init_method = \"magnitude\"  # \"wanda_per_output\"\n",
    "block_size = 128  # 4096\n",
    "num_restarts = 1  # 20\n",
    "min_num_steps_per_layer = 1  # 10\n",
    "selection_method = \"gradient\"\n",
    "calc_hessian_method = \"gradient_per_sample\"\n",
    "grad_multiplier = 0.75\n",
    "ridge_multiplier = 0.001\n",
    "verbose = 2\n",
    "\n",
    "# Batch sizes\n",
    "batch_size_evaluation = 64  # 1\n",
    "batch_size_pruning = 16\n",
    "batch_size_calibration = 64  # 128\n",
    "max_batch_size = 1\n",
    "\n",
    "# Block settings\n",
    "block_solver = ConstrainedSASolver(verbose=verbose, num_restarts=num_restarts)\n",
    "k = block_size // 2\n",
    "tabu_frac = 0.40\n",
    "fix_frac_prune = 0.42\n",
    "fix_frac_keep = 0.35\n",
    "\n",
    "# Workers, etc.\n",
    "num_cpus = multiprocessing.cpu_count()\n",
    "dataloader_args = {\n",
    "    \"num_workers\": 4 if torch.cuda.is_available() else 0,\n",
    "    \"pin_memory\": False,\n",
    "}\n",
    "\n",
    "# Only prune linear layers and do not prune the final layer\n",
    "keep_layers = (torch.nn.Linear,)\n",
    "layer_name_to_exclude = \"lm_head\"\n",
    "\n",
    "# The loss function\n",
    "loss_function = nn.CrossEntropyLoss()\n",
    "\n",
    "# Evaluation\n",
    "evaluate_model_tasks_args = {\n",
    "    \"tasks\": [\"hellaswag\"],\n",
    "    # [\"boolq\", \"rte\", \"hellaswag\", \"winogrande\", \"arc_easy\", \"arc_challenge\", \"openbookqa\"]\n",
    "    \"num_fewshot\": 0,  # This is zero-shot evaluation\n",
    "    \"limit\": 10,  # None\n",
    "    \"check_integrity\": False,\n",
    "    \"use_cache\": None,  # Do not cache model responses\n",
    "    \"random_seed\": None,  # Do not set random seeds - we handle that already\n",
    "    \"numpy_random_seed\": None,\n",
    "    \"torch_random_seed\": None,\n",
    "    \"fewshot_random_seed\": None,\n",
    "}\n",
    "\n",
    "# Set the number of threads and seed the random number generator\n",
    "set_num_threads(num_cpus)\n",
    "set_seed(seed)"
   ]
  },
  {
   "cell_type": "markdown",
   "id": "905b9449-4d94-4459-9fe0-20fe1d672cd8",
   "metadata": {},
   "source": [
    "## Load a model\n",
    "\n",
    "When running on a machine with multiple GPUs, the print out below this cell will show the distribution of the model across GPUs. "
   ]
  },
  {
   "cell_type": "code",
   "execution_count": 3,
   "id": "af91c99b-d3c6-476d-9c64-37a9a62c0644",
   "metadata": {},
   "outputs": [
    {
     "name": "stdout",
     "output_type": "stream",
     "text": [
      "Device map: {'': device(type='cpu')}\n"
     ]
    }
   ],
   "source": [
    "# Load a fresh model\n",
    "# Note: it's important to load the model before getting a reference\n",
    "# to the weights (below)\n",
    "model = load_llm(model_name, device)\n",
    "model, tokenizer, seqlen, input_device = prepare_llm(model, device)"
   ]
  },
  {
   "cell_type": "markdown",
   "id": "3aae94fd-4573-4ffd-93b3-600b414efe05",
   "metadata": {},
   "source": [
    "Choose which layer to prune at each step. "
   ]
  },
  {
   "cell_type": "code",
   "execution_count": 4,
   "id": "2c268e15-4c56-42b5-ba3a-bad478dc3bac",
   "metadata": {},
   "outputs": [
    {
     "name": "stdout",
     "output_type": "stream",
     "text": [
      "Pruning 14 layers\n",
      "WARNING: cannot adhere to min_num_steps - some layers will have a lower number of steps\n"
     ]
    }
   ],
   "source": [
    "# The list of layers to process\n",
    "named_weights = get_named_weights(model, keep_layers)\n",
    "named_weights = {\n",
    "    name: weights\n",
    "    for name, weights in named_weights.items()\n",
    "    if layer_name_to_exclude not in name\n",
    "}\n",
    "layer_names = list(named_weights.keys())\n",
    "print(f\"Pruning {len(layer_names)} layers\")\n",
    "\n",
    "# The distribution of steps to weights\n",
    "w_names_step = get_log_w_names_step(\n",
    "    named_weights, num_steps_per_epoch, min_num_steps_per_layer\n",
    ")"
   ]
  },
  {
   "cell_type": "markdown",
   "id": "c8ac1ec9-b2a4-45c5-ad30-5d776cdab39d",
   "metadata": {},
   "source": [
    "## Load a dataset"
   ]
  },
  {
   "cell_type": "markdown",
   "id": "e8f2b86c-f0fd-4648-84fc-0b2c767997a2",
   "metadata": {},
   "source": [
    "Now, let's load the dataset:"
   ]
  },
  {
   "cell_type": "code",
   "execution_count": 5,
   "id": "6891d8bc-6c25-48c4-b34f-6cba2861eb7d",
   "metadata": {},
   "outputs": [],
   "source": [
    "train_dataset, valid_dataset = load_dataset(dataset_name, **dataset_args)"
   ]
  },
  {
   "cell_type": "markdown",
   "id": "207695a2-7ab0-4bf1-85ac-c3cc3102e54c",
   "metadata": {},
   "source": [
    "Then we set up data loaders for pruning and validation:"
   ]
  },
  {
   "cell_type": "code",
   "execution_count": 6,
   "id": "c342bc53-9487-490c-9b62-df78f43539e9",
   "metadata": {},
   "outputs": [],
   "source": [
    "# Pruning dataloader\n",
    "prune_dataloader = DataLoader(\n",
    "    train_dataset,\n",
    "    batch_size=batch_size_pruning,\n",
    "    shuffle=False,\n",
    "    **dataloader_args,\n",
    ")\n",
    "prune_dataloader.tokenizer = tokenizer  # Inject tokenizer to allow downstream use\n",
    "\n",
    "# Data loader\n",
    "valid_dataloader = DataLoader(\n",
    "    valid_dataset,\n",
    "    batch_size=batch_size_evaluation,\n",
    "    shuffle=False,\n",
    "    **dataloader_args,\n",
    ")\n",
    "valid_dataloader.tokenizer = tokenizer  # Inject tokenizer"
   ]
  },
  {
   "cell_type": "markdown",
   "id": "10e9fe95-3b41-406e-a74f-1c81343ed62f",
   "metadata": {},
   "source": [
    "If the initial selection of weights to prune is done using Wanda or the Gradient option, then we also need to provide the calibaration data:"
   ]
  },
  {
   "cell_type": "code",
   "execution_count": 7,
   "id": "463f0b77-0e29-4da2-9c61-faf09ff5c68d",
   "metadata": {},
   "outputs": [],
   "source": [
    "if init_method.startswith(\"wanda\") or init_method.startswith(\"gradient\"):\n",
    "    calibration_dataloader = DataLoader(\n",
    "        train_dataset,\n",
    "        batch_size=batch_size_calibration,\n",
    "        shuffle=False,  # Set to True for any dataset that is not streamed\n",
    "        **dataloader_args,\n",
    "    )\n",
    "    calibration_dataloader.tokenizer = tokenizer  # Inject tokenizer\n",
    "    calibration_loader_batch = next(iter(calibration_dataloader))\n",
    "    X_init, y_init = prep_loader_batch(calibration_loader_batch, tokenizer, seqlen)\n",
    "else:\n",
    "    X_init, y_init = None, None"
   ]
  },
  {
   "cell_type": "markdown",
   "id": "34f04c3a-5763-4760-adb9-d0bd717753d8",
   "metadata": {},
   "source": [
    "## Evaluate the model (before pruning)\n",
    "\n",
    "We check the performance of the model before pruning, as a point of reference: "
   ]
  },
  {
   "cell_type": "code",
   "execution_count": 8,
   "id": "a3c9b3a0-35a9-4159-a728-89e12c92bf22",
   "metadata": {},
   "outputs": [
    {
     "name": "stderr",
     "output_type": "stream",
     "text": [
      "2024-11-05:17:11:09,070 WARNING  [huggingface.py:96] `pretrained` model kwarg is not of type `str`. Many other model arguments may be ignored. Please do not launch via accelerate or use `parallelize=True` if passing an existing model this way.\n",
      "2024-11-05:17:11:09,071 INFO     [huggingface.py:483] Using model type 'default'\n",
      "2024-11-05:17:11:09,073 WARNING  [huggingface.py:277] Passed an already-initialized model through `pretrained`, assuming single-process call to evaluate() or custom distributed integration\n",
      "2024-11-05:17:11:09,076 INFO     [evaluator.py:217] Using pre-initialized model\n"
     ]
    },
    {
     "name": "stdout",
     "output_type": "stream",
     "text": [
      "Evaluating model before pruning:\n"
     ]
    },
    {
     "name": "stderr",
     "output_type": "stream",
     "text": [
      "2024-11-05:17:11:09,822 DEBUG    [__init__.py:522] File _phrases_va_common.yaml in /Users/gilir/git/pruning-nns/lm-evaluation-harness/lm_eval/tasks/catalan_bench/phrases_va could not be loaded\n",
      "2024-11-05:17:11:12,873 DEBUG    [__init__.py:522] File _phrases_es_common.yaml in /Users/gilir/git/pruning-nns/lm-evaluation-harness/lm_eval/tasks/spanish_bench/phrases_es could not be loaded\n",
      "2024-11-05:17:11:25,266 DEBUG    [__init__.py:522] File winogenerated.yaml in /Users/gilir/git/pruning-nns/lm-evaluation-harness/lm_eval/tasks/model_written_evals/winogenerated could not be loaded\n",
      "2024-11-05:17:11:35,818 WARNING  [evaluator.py:270] Overwriting default num_fewshot of hellaswag from None to 0\n",
      "2024-11-05:17:11:35,820 DEBUG    [cache.py:33] requests-hellaswag-0shot-rank0-world_size1-tokenizer is not cached, generating...\n",
      "2024-11-05:17:11:35,821 INFO     [task.py:415] Building contexts for hellaswag on rank 0...\n",
      "100%|█████████████████████████████████████████| 10/10 [00:00<00:00, 1775.22it/s]\n",
      "2024-11-05:17:11:35,841 DEBUG    [evaluator.py:460] Task: hellaswag; number of requests on this rank: 40\n",
      "2024-11-05:17:11:35,842 INFO     [evaluator.py:489] Running loglikelihood requests\n",
      "Running loglikelihood requests: 100%|██████████| 40/40 [00:00<00:00, 189.98it/s]\n"
     ]
    },
    {
     "name": "stdout",
     "output_type": "stream",
     "text": [
      "Results for each task:\n",
      "    hellaswag : 30.000 (+-15.275)\n",
      "  Evaluation time: evaluation_time=31.3sec, Accuracy: 30.00% (+-15.28%)\n",
      "Initial evaluation took: 0.52min\n"
     ]
    }
   ],
   "source": [
    "print(\"Evaluating model before pruning:\")\n",
    "unpruned_evaluation_start_time = time.time()\n",
    "unpruned_valid_accuracy, unpruned_evaluation_time, _ = evaluate_model_tasks(\n",
    "    model=model,\n",
    "    tokenizer=tokenizer,\n",
    "    verbose=True if verbose else False,\n",
    "    batch_size=batch_size_evaluation,\n",
    "    device=device,\n",
    "    **evaluate_model_tasks_args,\n",
    ")\n",
    "unpruned_evaluation_time = time.time() - unpruned_evaluation_start_time\n",
    "print(f\"Initial evaluation took: {unpruned_evaluation_time/60:.2f}min\")"
   ]
  },
  {
   "cell_type": "markdown",
   "id": "a53e86a8-4fd1-4d21-b20a-d3ea0907fc1b",
   "metadata": {},
   "source": [
    "## Run "
   ]
  },
  {
   "cell_type": "markdown",
   "id": "41ec32bf-cdee-44c8-9750-76ae7ecc457d",
   "metadata": {},
   "source": [
    "For demonstration purposes, the below will even run on a CPU and should take a few minutes (depending on the specs). However, we recommend running any actual experiments on a machine with at least one GPU. First we instantiate the pruner, which will already perform the initial pruning:"
   ]
  },
  {
   "cell_type": "code",
   "execution_count": 9,
   "id": "dff07e98-3b9c-40b9-8a4a-082d40ee291b",
   "metadata": {
    "scrolled": true
   },
   "outputs": [
    {
     "name": "stdout",
     "output_type": "stream",
     "text": [
      "********************************************************************************\n",
      "Pruning weights across all layers using density=0.3 block_solver=ConstrainedSASolver block_size=128 k=64 init_method='magnitude' selection_method='gradient' grad_multiplier=0.75 ridge_multiplier=0.001 calc_hessian_method='gradient_per_sample' seed=43 tabu_frac=0.4 fix_frac_prune=0.42 fix_frac_keep=0.35 \n",
      "\n",
      "Resetting pruner\n",
      "Performing initial pruning on layer model.layers.0.self_attn.q_proj.weight\n",
      "w_name='model.layers.0.self_attn.q_proj.weight', num_weights=256, self.density=0.3, num_fix_keep=27, num_fix_prune=75\n"
     ]
    },
    {
     "name": "stderr",
     "output_type": "stream",
     "text": [
      "2024-11-05:17:11:40,612 WARNING  [huggingface.py:96] `pretrained` model kwarg is not of type `str`. Many other model arguments may be ignored. Please do not launch via accelerate or use `parallelize=True` if passing an existing model this way.\n",
      "2024-11-05:17:11:40,613 INFO     [huggingface.py:483] Using model type 'default'\n",
      "2024-11-05:17:11:40,615 WARNING  [huggingface.py:277] Passed an already-initialized model through `pretrained`, assuming single-process call to evaluate() or custom distributed integration\n",
      "2024-11-05:17:11:40,617 INFO     [evaluator.py:217] Using pre-initialized model\n"
     ]
    },
    {
     "name": "stdout",
     "output_type": "stream",
     "text": [
      "Layer model.layers.0.self_attn.q_proj.weight cannot support tabu list of size 62 (tabu fraction 0.4 * num candidate weights 154), given block size 128. Switching off tabu for this layer.\n",
      "Done with initial pruning of layer model.layers.0.self_attn.q_proj.weight, layer_density=0.301\n",
      "    _perform_init_pruning_layer() took: 0.01s\n",
      "Performing initial pruning on layer model.layers.0.self_attn.k_proj.weight\n",
      "w_name='model.layers.0.self_attn.k_proj.weight', num_weights=256, self.density=0.3, num_fix_keep=27, num_fix_prune=75\n",
      "Layer model.layers.0.self_attn.k_proj.weight cannot support tabu list of size 62 (tabu fraction 0.4 * num candidate weights 154), given block size 128. Switching off tabu for this layer.\n",
      "Done with initial pruning of layer model.layers.0.self_attn.k_proj.weight, layer_density=0.301\n",
      "    _perform_init_pruning_layer() took: 0.00s\n",
      "Performing initial pruning on layer model.layers.0.self_attn.v_proj.weight\n",
      "w_name='model.layers.0.self_attn.v_proj.weight', num_weights=256, self.density=0.3, num_fix_keep=27, num_fix_prune=75\n",
      "Layer model.layers.0.self_attn.v_proj.weight cannot support tabu list of size 62 (tabu fraction 0.4 * num candidate weights 154), given block size 128. Switching off tabu for this layer.\n",
      "Done with initial pruning of layer model.layers.0.self_attn.v_proj.weight, layer_density=0.301\n",
      "    _perform_init_pruning_layer() took: 0.00s\n",
      "Performing initial pruning on layer model.layers.0.self_attn.o_proj.weight\n",
      "w_name='model.layers.0.self_attn.o_proj.weight', num_weights=256, self.density=0.3, num_fix_keep=27, num_fix_prune=75\n",
      "Layer model.layers.0.self_attn.o_proj.weight cannot support tabu list of size 62 (tabu fraction 0.4 * num candidate weights 154), given block size 128. Switching off tabu for this layer.\n",
      "Done with initial pruning of layer model.layers.0.self_attn.o_proj.weight, layer_density=0.301\n",
      "    _perform_init_pruning_layer() took: 0.00s\n",
      "Performing initial pruning on layer model.layers.0.mlp.gate_proj.weight\n",
      "w_name='model.layers.0.mlp.gate_proj.weight', num_weights=1024, self.density=0.3, num_fix_keep=107, num_fix_prune=301\n",
      "Done with initial pruning of layer model.layers.0.mlp.gate_proj.weight, layer_density=0.300\n",
      "    _perform_init_pruning_layer() took: 0.00s\n",
      "Performing initial pruning on layer model.layers.0.mlp.up_proj.weight\n",
      "w_name='model.layers.0.mlp.up_proj.weight', num_weights=1024, self.density=0.3, num_fix_keep=107, num_fix_prune=301\n",
      "Done with initial pruning of layer model.layers.0.mlp.up_proj.weight, layer_density=0.300\n",
      "    _perform_init_pruning_layer() took: 0.00s\n",
      "Performing initial pruning on layer model.layers.0.mlp.down_proj.weight\n",
      "w_name='model.layers.0.mlp.down_proj.weight', num_weights=1024, self.density=0.3, num_fix_keep=107, num_fix_prune=301\n",
      "Done with initial pruning of layer model.layers.0.mlp.down_proj.weight, layer_density=0.300\n",
      "    _perform_init_pruning_layer() took: 0.00s\n",
      "Performing initial pruning on layer model.layers.1.self_attn.q_proj.weight\n",
      "w_name='model.layers.1.self_attn.q_proj.weight', num_weights=256, self.density=0.3, num_fix_keep=27, num_fix_prune=75\n",
      "Layer model.layers.1.self_attn.q_proj.weight cannot support tabu list of size 62 (tabu fraction 0.4 * num candidate weights 154), given block size 128. Switching off tabu for this layer.\n",
      "Done with initial pruning of layer model.layers.1.self_attn.q_proj.weight, layer_density=0.301\n",
      "    _perform_init_pruning_layer() took: 0.00s\n",
      "Performing initial pruning on layer model.layers.1.self_attn.k_proj.weight\n",
      "w_name='model.layers.1.self_attn.k_proj.weight', num_weights=256, self.density=0.3, num_fix_keep=27, num_fix_prune=75\n",
      "Layer model.layers.1.self_attn.k_proj.weight cannot support tabu list of size 62 (tabu fraction 0.4 * num candidate weights 154), given block size 128. Switching off tabu for this layer.\n",
      "Done with initial pruning of layer model.layers.1.self_attn.k_proj.weight, layer_density=0.301\n",
      "    _perform_init_pruning_layer() took: 0.00s\n",
      "Performing initial pruning on layer model.layers.1.self_attn.v_proj.weight\n",
      "w_name='model.layers.1.self_attn.v_proj.weight', num_weights=256, self.density=0.3, num_fix_keep=27, num_fix_prune=75\n",
      "Layer model.layers.1.self_attn.v_proj.weight cannot support tabu list of size 62 (tabu fraction 0.4 * num candidate weights 154), given block size 128. Switching off tabu for this layer.\n",
      "Done with initial pruning of layer model.layers.1.self_attn.v_proj.weight, layer_density=0.301\n",
      "    _perform_init_pruning_layer() took: 0.00s\n",
      "Performing initial pruning on layer model.layers.1.self_attn.o_proj.weight\n",
      "w_name='model.layers.1.self_attn.o_proj.weight', num_weights=256, self.density=0.3, num_fix_keep=27, num_fix_prune=75\n",
      "Layer model.layers.1.self_attn.o_proj.weight cannot support tabu list of size 62 (tabu fraction 0.4 * num candidate weights 154), given block size 128. Switching off tabu for this layer.\n",
      "Done with initial pruning of layer model.layers.1.self_attn.o_proj.weight, layer_density=0.301\n",
      "    _perform_init_pruning_layer() took: 0.00s\n",
      "Performing initial pruning on layer model.layers.1.mlp.gate_proj.weight\n",
      "w_name='model.layers.1.mlp.gate_proj.weight', num_weights=1024, self.density=0.3, num_fix_keep=107, num_fix_prune=301\n",
      "Done with initial pruning of layer model.layers.1.mlp.gate_proj.weight, layer_density=0.300\n",
      "    _perform_init_pruning_layer() took: 0.00s\n",
      "Performing initial pruning on layer model.layers.1.mlp.up_proj.weight\n",
      "w_name='model.layers.1.mlp.up_proj.weight', num_weights=1024, self.density=0.3, num_fix_keep=107, num_fix_prune=301\n",
      "Done with initial pruning of layer model.layers.1.mlp.up_proj.weight, layer_density=0.300\n",
      "    _perform_init_pruning_layer() took: 0.00s\n",
      "Performing initial pruning on layer model.layers.1.mlp.down_proj.weight\n",
      "w_name='model.layers.1.mlp.down_proj.weight', num_weights=1024, self.density=0.3, num_fix_keep=107, num_fix_prune=301\n",
      "Done with initial pruning of layer model.layers.1.mlp.down_proj.weight, layer_density=0.300\n",
      "    _perform_init_pruning_layer() took: 0.00s\n",
      "Done with initial pruning in 0.02s\n",
      "Target density: 0.3 Actual density: 0.9450\n",
      "Evaluating model after initial pruning:\n"
     ]
    },
    {
     "name": "stderr",
     "output_type": "stream",
     "text": [
      "2024-11-05:17:11:41,387 DEBUG    [__init__.py:522] File _phrases_va_common.yaml in /Users/gilir/git/pruning-nns/lm-evaluation-harness/lm_eval/tasks/catalan_bench/phrases_va could not be loaded\n",
      "2024-11-05:17:11:44,774 DEBUG    [__init__.py:522] File _phrases_es_common.yaml in /Users/gilir/git/pruning-nns/lm-evaluation-harness/lm_eval/tasks/spanish_bench/phrases_es could not be loaded\n",
      "2024-11-05:17:11:56,233 DEBUG    [__init__.py:522] File winogenerated.yaml in /Users/gilir/git/pruning-nns/lm-evaluation-harness/lm_eval/tasks/model_written_evals/winogenerated could not be loaded\n",
      "2024-11-05:17:12:05,293 WARNING  [evaluator.py:270] Overwriting default num_fewshot of hellaswag from None to 0\n",
      "2024-11-05:17:12:05,295 DEBUG    [cache.py:33] requests-hellaswag-0shot-rank0-world_size1-tokenizer is not cached, generating...\n",
      "2024-11-05:17:12:05,296 INFO     [task.py:415] Building contexts for hellaswag on rank 0...\n",
      "100%|█████████████████████████████████████████| 10/10 [00:00<00:00, 1813.91it/s]\n",
      "2024-11-05:17:12:05,312 DEBUG    [evaluator.py:460] Task: hellaswag; number of requests on this rank: 40\n",
      "2024-11-05:17:12:05,313 INFO     [evaluator.py:489] Running loglikelihood requests\n",
      "Running loglikelihood requests: 100%|██████████| 40/40 [00:00<00:00, 264.29it/s]\n"
     ]
    },
    {
     "name": "stdout",
     "output_type": "stream",
     "text": [
      "Results for each task:\n",
      "    hellaswag : 30.000 (+-15.275)\n",
      "  Evaluation time: evaluation_time=27.4sec, Accuracy: 30.00% (+-15.28%)\n",
      "Initial pruning and validation took: 0.46min\n"
     ]
    }
   ],
   "source": [
    "initial_pruning_start_time = time.time()\n",
    "\n",
    "print(\"*\" * 80)\n",
    "print(\n",
    "    f\"Pruning weights across all layers using {density=} \"\n",
    "    f\"block_solver={block_solver.__class__.__name__} \"\n",
    "    f\"{block_size=} {k=} {init_method=} {selection_method=} \"\n",
    "    f\"{grad_multiplier=} {ridge_multiplier=} {calc_hessian_method=} \"\n",
    "    f\"{seed=} {tabu_frac=} {fix_frac_prune=} {fix_frac_keep=} \\n\"\n",
    ")\n",
    "\n",
    "pruner = Pruner(\n",
    "    model,\n",
    "    loss_function,\n",
    "    density,\n",
    "    block_solver,\n",
    "    block_size,\n",
    "    k,\n",
    "    layer_names,\n",
    "    init_method,\n",
    "    selection_method,\n",
    "    grad_multiplier,\n",
    "    ridge_multiplier,\n",
    "    calc_hessian_method,\n",
    "    seed,\n",
    "    verbose,\n",
    "    X_init=X_init,\n",
    "    y_init=y_init,\n",
    "    tabu_frac=tabu_frac,\n",
    "    fix_frac_prune=fix_frac_prune,\n",
    "    fix_frac_keep=fix_frac_keep,\n",
    "    max_batch_size=max_batch_size,\n",
    ")\n",
    "\n",
    "print(f\"Target density: {density} Actual density: {calc_density(model):.4f}\")\n",
    "\n",
    "print(\"Evaluating model after initial pruning:\")\n",
    "valid_accuracy, evaluation_time, _ = evaluate_model_tasks(\n",
    "    model=model,\n",
    "    tokenizer=tokenizer,\n",
    "    verbose=True if verbose else False,\n",
    "    batch_size=batch_size_evaluation,\n",
    "    device=device,\n",
    "    **evaluate_model_tasks_args,\n",
    ")\n",
    "\n",
    "initial_pruning_time = time.time() - initial_pruning_start_time\n",
    "print(f\"Initial pruning and validation took: {initial_pruning_time/60:.2f}min\")"
   ]
  },
  {
   "cell_type": "markdown",
   "id": "ae621f59-e292-4027-9f9e-b9e275ff6cd2",
   "metadata": {},
   "source": [
    "Then we run the optimization-based pruning steps to (hopefully) improve on the initial pruning:"
   ]
  },
  {
   "cell_type": "code",
   "execution_count": 10,
   "id": "f01bcfe5-2cc7-441f-bbda-1e73698900ac",
   "metadata": {},
   "outputs": [
    {
     "name": "stdout",
     "output_type": "stream",
     "text": [
      "--------------------------------------------------------------------------------\n",
      "num_epoch=1\n",
      "-----------------------\n",
      "Pruner step 1 (of 1)\n"
     ]
    },
    {
     "name": "stderr",
     "output_type": "stream",
     "text": [
      "2024-11-05:17:12:27,837 WARNING  [huggingface.py:96] `pretrained` model kwarg is not of type `str`. Many other model arguments may be ignored. Please do not launch via accelerate or use `parallelize=True` if passing an existing model this way.\n",
      "2024-11-05:17:12:27,838 INFO     [huggingface.py:483] Using model type 'default'\n",
      "2024-11-05:17:12:27,840 WARNING  [huggingface.py:277] Passed an already-initialized model through `pretrained`, assuming single-process call to evaluate() or custom distributed integration\n",
      "2024-11-05:17:12:27,842 INFO     [evaluator.py:217] Using pre-initialized model\n"
     ]
    },
    {
     "name": "stdout",
     "output_type": "stream",
     "text": [
      "    Calculated gradient in 19.56s\n",
      "    w_name='model.layers.0.mlp.gate_proj.weight' k_effective=64\n",
      "    _calc_grad_sample_block() took: 0.00s\n",
      "    _calc_hess_block() took: 0.00s\n",
      "    scaling=3.010e+07 cutoff=1.000e-12 Q_density=1.00000 Q_density_cutoff=0.50421\n",
      "    Solving with ConstrainedSASolver, problem_filename=PosixPath('.98345_241105_171227700923_57a693665e14481e9497a184ecf6d291.tmp')\n",
      "    n=128 best_E=314.115 elapsed_time=0.018\n",
      "    dL=-0.000 dE=-0.000 ridge_contribution=0.000 const=-0.000 best_E=0.000 dL_eval=-0.000 delta_w_squared=0.033\n",
      "    Pruner step took: 19.76s\n",
      "\n",
      "Evaluating model after epoch 1:\n"
     ]
    },
    {
     "name": "stderr",
     "output_type": "stream",
     "text": [
      "2024-11-05:17:12:28,496 DEBUG    [__init__.py:522] File _phrases_va_common.yaml in /Users/gilir/git/pruning-nns/lm-evaluation-harness/lm_eval/tasks/catalan_bench/phrases_va could not be loaded\n",
      "2024-11-05:17:12:31,245 DEBUG    [__init__.py:522] File _phrases_es_common.yaml in /Users/gilir/git/pruning-nns/lm-evaluation-harness/lm_eval/tasks/spanish_bench/phrases_es could not be loaded\n",
      "2024-11-05:17:12:41,298 DEBUG    [__init__.py:522] File winogenerated.yaml in /Users/gilir/git/pruning-nns/lm-evaluation-harness/lm_eval/tasks/model_written_evals/winogenerated could not be loaded\n",
      "2024-11-05:17:12:48,601 WARNING  [evaluator.py:270] Overwriting default num_fewshot of hellaswag from None to 0\n",
      "2024-11-05:17:12:48,603 DEBUG    [cache.py:33] requests-hellaswag-0shot-rank0-world_size1-tokenizer is not cached, generating...\n",
      "2024-11-05:17:12:48,604 INFO     [task.py:415] Building contexts for hellaswag on rank 0...\n",
      "100%|█████████████████████████████████████████| 10/10 [00:00<00:00, 1924.88it/s]\n",
      "2024-11-05:17:12:48,621 DEBUG    [evaluator.py:460] Task: hellaswag; number of requests on this rank: 40\n",
      "2024-11-05:17:12:48,622 INFO     [evaluator.py:489] Running loglikelihood requests\n",
      "Running loglikelihood requests: 100%|██████████| 40/40 [00:00<00:00, 274.35it/s]\n"
     ]
    },
    {
     "name": "stdout",
     "output_type": "stream",
     "text": [
      "Results for each task:\n",
      "    hellaswag : 30.000 (+-15.275)\n",
      "  Evaluation time: evaluation_time=23.5sec, Accuracy: 30.00% (+-15.28%)\n",
      "  Time: prune_time=19.8sec\n",
      "\n",
      "--------------------------------------------------------------------------------\n",
      "num_epoch=2\n",
      "-----------------------\n",
      "Pruner step 1 (of 1)\n"
     ]
    },
    {
     "name": "stderr",
     "output_type": "stream",
     "text": [
      "2024-11-05:17:13:09,934 WARNING  [huggingface.py:96] `pretrained` model kwarg is not of type `str`. Many other model arguments may be ignored. Please do not launch via accelerate or use `parallelize=True` if passing an existing model this way.\n",
      "2024-11-05:17:13:09,936 INFO     [huggingface.py:483] Using model type 'default'\n",
      "2024-11-05:17:13:09,938 WARNING  [huggingface.py:277] Passed an already-initialized model through `pretrained`, assuming single-process call to evaluate() or custom distributed integration\n",
      "2024-11-05:17:13:09,940 INFO     [evaluator.py:217] Using pre-initialized model\n"
     ]
    },
    {
     "name": "stdout",
     "output_type": "stream",
     "text": [
      "    Calculated gradient in 18.46s\n",
      "    w_name='model.layers.0.mlp.gate_proj.weight' k_effective=64\n",
      "    _calc_grad_sample_block() took: 0.00s\n",
      "    _calc_hess_block() took: 0.00s\n",
      "    scaling=4.510e+07 cutoff=1.000e-12 Q_density=1.00000 Q_density_cutoff=0.49719\n",
      "    Solving with ConstrainedSASolver, problem_filename=PosixPath('.98345_241105_171309817864_ac4e910e0f344588867ae1aa335b84c7.tmp')\n",
      "    n=128 best_E=205.037 elapsed_time=0.014\n",
      "    dL=-0.000 dE=0.000 ridge_contribution=0.000 const=0.000 best_E=0.000 dL_eval=-0.000 delta_w_squared=0.028\n",
      "    Pruner step took: 18.61s\n",
      "\n",
      "Evaluating model after epoch 2:\n"
     ]
    },
    {
     "name": "stderr",
     "output_type": "stream",
     "text": [
      "2024-11-05:17:13:10,582 DEBUG    [__init__.py:522] File _phrases_va_common.yaml in /Users/gilir/git/pruning-nns/lm-evaluation-harness/lm_eval/tasks/catalan_bench/phrases_va could not be loaded\n",
      "2024-11-05:17:13:13,400 DEBUG    [__init__.py:522] File _phrases_es_common.yaml in /Users/gilir/git/pruning-nns/lm-evaluation-harness/lm_eval/tasks/spanish_bench/phrases_es could not be loaded\n",
      "2024-11-05:17:13:23,459 DEBUG    [__init__.py:522] File winogenerated.yaml in /Users/gilir/git/pruning-nns/lm-evaluation-harness/lm_eval/tasks/model_written_evals/winogenerated could not be loaded\n",
      "2024-11-05:17:13:31,202 WARNING  [evaluator.py:270] Overwriting default num_fewshot of hellaswag from None to 0\n",
      "2024-11-05:17:13:31,204 DEBUG    [cache.py:33] requests-hellaswag-0shot-rank0-world_size1-tokenizer is not cached, generating...\n",
      "2024-11-05:17:13:31,205 INFO     [task.py:415] Building contexts for hellaswag on rank 0...\n",
      "100%|█████████████████████████████████████████| 10/10 [00:00<00:00, 1902.96it/s]\n",
      "2024-11-05:17:13:31,223 DEBUG    [evaluator.py:460] Task: hellaswag; number of requests on this rank: 40\n",
      "2024-11-05:17:13:31,224 INFO     [evaluator.py:489] Running loglikelihood requests\n",
      "Running loglikelihood requests: 100%|██████████| 40/40 [00:00<00:00, 279.16it/s]\n"
     ]
    },
    {
     "name": "stdout",
     "output_type": "stream",
     "text": [
      "Results for each task:\n",
      "    hellaswag : 30.000 (+-15.275)\n",
      "  Evaluation time: evaluation_time=23.9sec, Accuracy: 30.00% (+-15.28%)\n",
      "  Time: prune_time=18.6sec\n",
      "\n",
      "--------------------------------------------------------------------------------\n",
      "num_epoch=3\n",
      "-----------------------\n",
      "Pruner step 1 (of 1)\n"
     ]
    },
    {
     "name": "stderr",
     "output_type": "stream",
     "text": [
      "2024-11-05:17:13:53,157 WARNING  [huggingface.py:96] `pretrained` model kwarg is not of type `str`. Many other model arguments may be ignored. Please do not launch via accelerate or use `parallelize=True` if passing an existing model this way.\n",
      "2024-11-05:17:13:53,159 INFO     [huggingface.py:483] Using model type 'default'\n",
      "2024-11-05:17:13:53,161 WARNING  [huggingface.py:277] Passed an already-initialized model through `pretrained`, assuming single-process call to evaluate() or custom distributed integration\n",
      "2024-11-05:17:13:53,163 INFO     [evaluator.py:217] Using pre-initialized model\n"
     ]
    },
    {
     "name": "stdout",
     "output_type": "stream",
     "text": [
      "    Calculated gradient in 19.17s\n",
      "    w_name='model.layers.0.mlp.gate_proj.weight' k_effective=64\n",
      "    _calc_grad_sample_block() took: 0.00s\n",
      "    _calc_hess_block() took: 0.00s\n",
      "    scaling=2.565e+07 cutoff=1.000e-12 Q_density=1.00000 Q_density_cutoff=0.50568\n",
      "    Solving with ConstrainedSASolver, problem_filename=PosixPath('.98345_241105_171353028294_d48ee326d9cf43b1a07c14933ba77c5d.tmp')\n",
      "    n=128 best_E=1.745 elapsed_time=0.025\n",
      "    dL=0.000 dE=0.000 ridge_contribution=0.000 const=0.000 best_E=0.000 dL_eval=-0.000 delta_w_squared=0.027\n",
      "    Pruner step took: 19.34s\n",
      "\n",
      "Evaluating model after epoch 3:\n"
     ]
    },
    {
     "name": "stderr",
     "output_type": "stream",
     "text": [
      "2024-11-05:17:13:53,921 DEBUG    [__init__.py:522] File _phrases_va_common.yaml in /Users/gilir/git/pruning-nns/lm-evaluation-harness/lm_eval/tasks/catalan_bench/phrases_va could not be loaded\n",
      "2024-11-05:17:13:56,645 DEBUG    [__init__.py:522] File _phrases_es_common.yaml in /Users/gilir/git/pruning-nns/lm-evaluation-harness/lm_eval/tasks/spanish_bench/phrases_es could not be loaded\n",
      "2024-11-05:17:14:06,778 DEBUG    [__init__.py:522] File winogenerated.yaml in /Users/gilir/git/pruning-nns/lm-evaluation-harness/lm_eval/tasks/model_written_evals/winogenerated could not be loaded\n",
      "2024-11-05:17:14:15,465 WARNING  [evaluator.py:270] Overwriting default num_fewshot of hellaswag from None to 0\n",
      "2024-11-05:17:14:15,467 DEBUG    [cache.py:33] requests-hellaswag-0shot-rank0-world_size1-tokenizer is not cached, generating...\n",
      "2024-11-05:17:14:15,468 INFO     [task.py:415] Building contexts for hellaswag on rank 0...\n",
      "100%|█████████████████████████████████████████| 10/10 [00:00<00:00, 1661.70it/s]\n",
      "2024-11-05:17:14:15,486 DEBUG    [evaluator.py:460] Task: hellaswag; number of requests on this rank: 40\n",
      "2024-11-05:17:14:15,487 INFO     [evaluator.py:489] Running loglikelihood requests\n",
      "Running loglikelihood requests: 100%|██████████| 40/40 [00:00<00:00, 263.45it/s]\n"
     ]
    },
    {
     "name": "stdout",
     "output_type": "stream",
     "text": [
      "Results for each task:\n",
      "    hellaswag : 30.000 (+-15.275)\n",
      "  Evaluation time: evaluation_time=25.2sec, Accuracy: 30.00% (+-15.28%)\n",
      "  Time: prune_time=19.3sec\n",
      "\n",
      "--------------------------------------------------------------------------------\n",
      "num_epoch=4\n",
      "-----------------------\n",
      "Pruner step 1 (of 1)\n"
     ]
    },
    {
     "name": "stderr",
     "output_type": "stream",
     "text": [
      "2024-11-05:17:14:36,935 WARNING  [huggingface.py:96] `pretrained` model kwarg is not of type `str`. Many other model arguments may be ignored. Please do not launch via accelerate or use `parallelize=True` if passing an existing model this way.\n",
      "2024-11-05:17:14:36,936 INFO     [huggingface.py:483] Using model type 'default'\n",
      "2024-11-05:17:14:36,938 WARNING  [huggingface.py:277] Passed an already-initialized model through `pretrained`, assuming single-process call to evaluate() or custom distributed integration\n",
      "2024-11-05:17:14:36,940 INFO     [evaluator.py:217] Using pre-initialized model\n"
     ]
    },
    {
     "name": "stdout",
     "output_type": "stream",
     "text": [
      "    Calculated gradient in 18.43s\n",
      "    w_name='model.layers.0.mlp.gate_proj.weight' k_effective=64\n",
      "    _calc_grad_sample_block() took: 0.00s\n",
      "    _calc_hess_block() took: 0.00s\n",
      "    scaling=3.266e+07 cutoff=1.000e-12 Q_density=1.00000 Q_density_cutoff=0.54718\n",
      "    Solving with ConstrainedSASolver, problem_filename=PosixPath('.98345_241105_171436815142_f540d2661b6e42e28ac6a558714991b5.tmp')\n",
      "    n=128 best_E=731.490 elapsed_time=0.013\n",
      "    dL=0.000 dE=0.000 ridge_contribution=0.000 const=0.000 best_E=0.000 dL_eval=-0.000 delta_w_squared=0.005\n",
      "    Pruner step took: 18.58s\n",
      "\n",
      "Evaluating model after epoch 4:\n"
     ]
    },
    {
     "name": "stderr",
     "output_type": "stream",
     "text": [
      "2024-11-05:17:14:37,581 DEBUG    [__init__.py:522] File _phrases_va_common.yaml in /Users/gilir/git/pruning-nns/lm-evaluation-harness/lm_eval/tasks/catalan_bench/phrases_va could not be loaded\n",
      "2024-11-05:17:14:40,339 DEBUG    [__init__.py:522] File _phrases_es_common.yaml in /Users/gilir/git/pruning-nns/lm-evaluation-harness/lm_eval/tasks/spanish_bench/phrases_es could not be loaded\n",
      "2024-11-05:17:14:50,521 DEBUG    [__init__.py:522] File winogenerated.yaml in /Users/gilir/git/pruning-nns/lm-evaluation-harness/lm_eval/tasks/model_written_evals/winogenerated could not be loaded\n",
      "2024-11-05:17:14:58,284 WARNING  [evaluator.py:270] Overwriting default num_fewshot of hellaswag from None to 0\n",
      "2024-11-05:17:14:58,285 DEBUG    [cache.py:33] requests-hellaswag-0shot-rank0-world_size1-tokenizer is not cached, generating...\n",
      "2024-11-05:17:14:58,286 INFO     [task.py:415] Building contexts for hellaswag on rank 0...\n",
      "100%|█████████████████████████████████████████| 10/10 [00:00<00:00, 1475.36it/s]\n",
      "2024-11-05:17:14:58,304 DEBUG    [evaluator.py:460] Task: hellaswag; number of requests on this rank: 40\n",
      "2024-11-05:17:14:58,305 INFO     [evaluator.py:489] Running loglikelihood requests\n",
      "Running loglikelihood requests: 100%|██████████| 40/40 [00:00<00:00, 264.76it/s]\n"
     ]
    },
    {
     "name": "stdout",
     "output_type": "stream",
     "text": [
      "Results for each task:\n",
      "    hellaswag : 30.000 (+-15.275)\n",
      "  Evaluation time: evaluation_time=24.3sec, Accuracy: 30.00% (+-15.28%)\n",
      "  Time: prune_time=18.6sec\n",
      "\n",
      "--------------------------------------------------------------------------------\n",
      "num_epoch=5\n",
      "-----------------------\n",
      "Pruner step 1 (of 1)\n"
     ]
    },
    {
     "name": "stderr",
     "output_type": "stream",
     "text": [
      "2024-11-05:17:15:20,732 WARNING  [huggingface.py:96] `pretrained` model kwarg is not of type `str`. Many other model arguments may be ignored. Please do not launch via accelerate or use `parallelize=True` if passing an existing model this way.\n",
      "2024-11-05:17:15:20,735 INFO     [huggingface.py:483] Using model type 'default'\n",
      "2024-11-05:17:15:20,737 WARNING  [huggingface.py:277] Passed an already-initialized model through `pretrained`, assuming single-process call to evaluate() or custom distributed integration\n",
      "2024-11-05:17:15:20,740 INFO     [evaluator.py:217] Using pre-initialized model\n"
     ]
    },
    {
     "name": "stdout",
     "output_type": "stream",
     "text": [
      "    Calculated gradient in 19.35s\n",
      "    w_name='model.layers.0.mlp.gate_proj.weight' k_effective=64\n",
      "    _calc_grad_sample_block() took: 0.00s\n",
      "    _calc_hess_block() took: 0.00s\n",
      "    scaling=3.791e+07 cutoff=1.000e-12 Q_density=1.00000 Q_density_cutoff=0.49567\n",
      "    Solving with ConstrainedSASolver, problem_filename=PosixPath('.98345_241105_171520600940_233291fc4d684397aade90084cb7c5ed.tmp')\n",
      "    n=128 best_E=50.679 elapsed_time=0.014\n",
      "    dL=0.000 dE=0.000 ridge_contribution=0.000 const=0.000 best_E=0.000 dL_eval=-0.000 delta_w_squared=0.001\n",
      "    Pruner step took: 19.51s\n",
      "\n",
      "Evaluating model after epoch 5:\n"
     ]
    },
    {
     "name": "stderr",
     "output_type": "stream",
     "text": [
      "2024-11-05:17:15:21,477 DEBUG    [__init__.py:522] File _phrases_va_common.yaml in /Users/gilir/git/pruning-nns/lm-evaluation-harness/lm_eval/tasks/catalan_bench/phrases_va could not be loaded\n",
      "2024-11-05:17:15:24,217 DEBUG    [__init__.py:522] File _phrases_es_common.yaml in /Users/gilir/git/pruning-nns/lm-evaluation-harness/lm_eval/tasks/spanish_bench/phrases_es could not be loaded\n",
      "2024-11-05:17:15:34,404 DEBUG    [__init__.py:522] File winogenerated.yaml in /Users/gilir/git/pruning-nns/lm-evaluation-harness/lm_eval/tasks/model_written_evals/winogenerated could not be loaded\n",
      "2024-11-05:17:15:43,621 WARNING  [evaluator.py:270] Overwriting default num_fewshot of hellaswag from None to 0\n",
      "2024-11-05:17:15:43,623 DEBUG    [cache.py:33] requests-hellaswag-0shot-rank0-world_size1-tokenizer is not cached, generating...\n",
      "2024-11-05:17:15:43,624 INFO     [task.py:415] Building contexts for hellaswag on rank 0...\n",
      "100%|█████████████████████████████████████████| 10/10 [00:00<00:00, 1784.73it/s]\n",
      "2024-11-05:17:15:43,641 DEBUG    [evaluator.py:460] Task: hellaswag; number of requests on this rank: 40\n",
      "2024-11-05:17:15:43,642 INFO     [evaluator.py:489] Running loglikelihood requests\n",
      "Running loglikelihood requests: 100%|██████████| 40/40 [00:00<00:00, 289.95it/s]\n"
     ]
    },
    {
     "name": "stdout",
     "output_type": "stream",
     "text": [
      "Results for each task:\n",
      "    hellaswag : 30.000 (+-15.275)\n",
      "  Evaluation time: evaluation_time=25.7sec, Accuracy: 30.00% (+-15.28%)\n",
      "  Time: prune_time=19.5sec\n",
      "\n",
      "Experiment took: 3.64min\n"
     ]
    }
   ],
   "source": [
    "experiment_start_time = time.time()\n",
    "\n",
    "valid_accuracies = [valid_accuracy]\n",
    "prune_times = [0.0]\n",
    "evaluation_times = [evaluation_time]\n",
    "for num_epoch in range(1, pruner_num_epochs + 1):\n",
    "    print(\"-\" * 80)\n",
    "    print(f\"{num_epoch=}\")\n",
    "    start_time = time.time()\n",
    "    w_names_step = np.random.permutation(w_names_step)\n",
    "    prune_loop(\n",
    "        prune_dataloader,\n",
    "        model,\n",
    "        pruner,\n",
    "        input_device,\n",
    "        w_names_step,\n",
    "        verbose=1 if verbose else None,\n",
    "    )\n",
    "    prune_time = time.time() - start_time\n",
    "\n",
    "    print(f\"\\nEvaluating model after epoch {num_epoch}:\")\n",
    "    valid_accuracy, evaluation_time, _ = evaluate_model_tasks(\n",
    "        model=model,\n",
    "        tokenizer=tokenizer,\n",
    "        verbose=True if verbose else False,\n",
    "        batch_size=batch_size_evaluation,\n",
    "        device=device,\n",
    "        **evaluate_model_tasks_args,\n",
    "    )\n",
    "    print(f\"  Time: {prune_time=:.1f}sec\\n\")\n",
    "\n",
    "    valid_accuracies.append(valid_accuracy)\n",
    "    prune_times.append(prune_time)\n",
    "    evaluation_times.append(evaluation_time)\n",
    "\n",
    "experiment_time = time.time() - experiment_start_time\n",
    "print(f\"Experiment took: {experiment_time/60:.2f}min\")"
   ]
  },
  {
   "cell_type": "markdown",
   "id": "92380314-084f-414a-a098-6579d28553a3",
   "metadata": {},
   "source": [
    "## Plot the results"
   ]
  },
  {
   "cell_type": "code",
   "execution_count": 11,
   "id": "e12dfa12-4d86-4d15-a794-d39d76e3c392",
   "metadata": {},
   "outputs": [
    {
     "data": {
      "image/png": "[encoded data removed]",
      "text/plain": [
       "<Figure size 640x480 with 1 Axes>"
      ]
     },
     "metadata": {},
     "output_type": "display_data"
    }
   ],
   "source": [
    "# Plot the evolution of the validation accuracy across epochs\n",
    "plt.figure()\n",
    "plt.xlabel(\"Epoch\")\n",
    "plt.ylabel(\"Validation accuracy [%]\")\n",
    "plt.axhline(y=valid_accuracies[0], linestyle=\"--\", label=f\"{init_method}\", color=\"b\")\n",
    "plt.axhline(y=unpruned_valid_accuracy, linestyle=\"--\", label=f\"No pruning\", color=\"k\")\n",
    "plt.plot(valid_accuracies, label=\"iCBS (ours)\", linestyle=\"--\", color=\"r\")\n",
    "plt.legend(loc=\"lower right\");"
   ]
  }
 ],
 "metadata": {
  "kernelspec": {
   "display_name": "prunes",
   "language": "python",
   "name": "prunes"
  },
  "language_info": {
   "codemirror_mode": {
    "name": "ipython",
    "version": 3
   },
   "file_extension": ".py",
   "mimetype": "text/x-python",
   "name": "python",
   "nbconvert_exporter": "python",
   "pygments_lexer": "ipython3",
   "version": "3.9.9"
  }
 },
 "nbformat": 4,
 "nbformat_minor": 5
}
